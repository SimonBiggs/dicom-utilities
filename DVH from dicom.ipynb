{
 "cells": [
  {
   "cell_type": "markdown",
   "metadata": {},
   "source": [
    "# Determine DVH when given dicom dose and structure files\n",
    "Copyright (C) 2016-2017 Simon Biggs\n",
    "\n",
    "This program is free software: you can redistribute it and/or modify it under the terms of the GNU Affero General Public License as published by the Free Software Foundation, either version 3 of the License, or (at your option) any later version.\n",
    "\n",
    "This program is distributed in the hope that it will be useful, but WITHOUT ANY WARRANTY; without even the implied warranty of MERCHANTABILITY or FITNESS FOR A PARTICULAR PURPOSE. See the GNU Affero General Public License for more details.\n",
    "\n",
    "You should have received a copy of the GNU Affero General Public License along with this program. If not, see http://www.gnu.org/licenses/."
   ]
  },
  {
   "cell_type": "markdown",
   "metadata": {},
   "source": [
    "# This code has not undergone sufficient testing"
   ]
  },
  {
   "cell_type": "code",
   "execution_count": 1,
   "metadata": {
    "collapsed": false
   },
   "outputs": [],
   "source": [
    "import dicom\n",
    "import numpy as np\n",
    "import matplotlib.pyplot as plt\n",
    "from mpl_toolkits.mplot3d import Axes3D\n",
    "from matplotlib import path\n",
    "\n",
    "from scipy.interpolate import interp1d\n",
    "\n",
    "%matplotlib inline"
   ]
  },
  {
   "cell_type": "code",
   "execution_count": 2,
   "metadata": {
    "collapsed": false,
    "scrolled": false
   },
   "outputs": [],
   "source": [
    "dcm_struct = dicom.read_file(\"structures.dcm\", force=True)\n",
    "\n",
    "dcm1 = dicom.read_file(\"PH1_dose.DCM\", force=True)\n",
    "dcm2 = dicom.read_file(\"PH2_dose.DCM\", force=True)"
   ]
  },
  {
   "cell_type": "code",
   "execution_count": 3,
   "metadata": {
    "collapsed": true
   },
   "outputs": [],
   "source": [
    "def load_dose_from_dicom(dcm):\n",
    "    pixels = np.transpose(\n",
    "        dcm.pixel_array, (1, 2, 0))\n",
    "    dose = pixels * dcm.DoseGridScaling\n",
    "    \n",
    "    return dose\n",
    "\n",
    "def load_xyz_from_dicom(dcm):\n",
    "    resolution = np.array(\n",
    "        dcm.PixelSpacing).astype(float)\n",
    "    dx = resolution[0]\n",
    "    \n",
    "    x = (\n",
    "        dcm.ImagePositionPatient[0] + \n",
    "        np.arange(0, dcm.Columns * dx, dx))\n",
    "    \n",
    "    dy = resolution[1]\n",
    "    y = (\n",
    "        dcm.ImagePositionPatient[1] + \n",
    "        np.arange(0, dcm.Rows * dy, dy))\n",
    "    \n",
    "    z = (\n",
    "        np.array(dcm.GridFrameOffsetVector) + \n",
    "        dcm.ImagePositionPatient[2])\n",
    "    \n",
    "    return x, y, z"
   ]
  },
  {
   "cell_type": "code",
   "execution_count": 4,
   "metadata": {
    "collapsed": true
   },
   "outputs": [],
   "source": [
    "dose1 = load_dose_from_dicom(dcm1)\n",
    "x1, y1, z1 = load_xyz_from_dicom(dcm1)\n",
    "\n",
    "dose2 = load_dose_from_dicom(dcm2)\n",
    "x2, y2, z2 = load_xyz_from_dicom(dcm2)\n",
    "\n",
    "assert np.all(x1 == x2)\n",
    "assert np.all(y1 == y2)\n",
    "assert np.all(z1 == z2)\n",
    "x = x1\n",
    "y = y1\n",
    "z = z1\n",
    "\n",
    "dose_ph1and2 = dose1*23 + dose2*7"
   ]
  },
  {
   "cell_type": "code",
   "execution_count": 6,
   "metadata": {
    "collapsed": true
   },
   "outputs": [],
   "source": [
    "def pull_structure_by_number(number):\n",
    "    structure_names = [\n",
    "        item.ROIName for item in dcm_struct.StructureSetROISequence]\n",
    "    \n",
    "    contours_by_slice_raw = [\n",
    "        item.ContourData for item in dcm_struct.ROIContourSequence[number].ContourSequence]\n",
    "    x = [np.array(item[0::3]) for item in contours_by_slice_raw]\n",
    "    y = [np.array(item[1::3]) for item in contours_by_slice_raw]\n",
    "    z = [np.array(item[2::3]) for item in contours_by_slice_raw]\n",
    "    \n",
    "    print(\"Loaded {}\".format(structure_names[number]))\n",
    "    return x, y, z\n",
    "\n",
    "def pull_structure(string):\n",
    "    structure_names = np.array(\n",
    "        [item.ROIName for item in dcm_struct.StructureSetROISequence])\n",
    "    reference = structure_names == string\n",
    "    if np.all(reference == False):\n",
    "        raise Exception(\"Structure not found (case sensitive)\")\n",
    "        \n",
    "    index = int(np.where(reference)[0])    \n",
    "    x, y, z = pull_structure_by_number(index)\n",
    "\n",
    "    return x, y, z"
   ]
  },
  {
   "cell_type": "code",
   "execution_count": 29,
   "metadata": {
    "collapsed": true
   },
   "outputs": [],
   "source": [
    "def get_index(z_list, z_val):\n",
    "    indices = np.array([item[0] for item in z_list])\n",
    "    # This will error if more than one contour exists on a given slice\n",
    "    index = int(np.where(indices == z_val)[0])\n",
    "    # Multiple contour sets per slice not yet implemented\n",
    "    \n",
    "    return index"
   ]
  },
  {
   "cell_type": "code",
   "execution_count": 30,
   "metadata": {
    "collapsed": false
   },
   "outputs": [],
   "source": [
    "xx, yy = np.meshgrid(x, y)\n",
    "points = np.swapaxes(np.vstack([xx.ravel(), yy.ravel()]), 0, 1)"
   ]
  },
  {
   "cell_type": "code",
   "execution_count": 31,
   "metadata": {
    "collapsed": true
   },
   "outputs": [],
   "source": [
    "def find_dose_within_structure(structure):\n",
    "    x_structure, y_structure, z_structure = pull_structure(structure)\n",
    "    structure_z_values = np.array([item[0] for item in z_structure])\n",
    "    \n",
    "    structure_dose_values = np.array([])\n",
    "\n",
    "    for z_val in structure_z_values:\n",
    "        structure_index = get_index(z_structure, z_val)\n",
    "        dose_index = int(np.where(z == z_val)[0])\n",
    "\n",
    "        assert z_structure[structure_index][0] == z[dose_index]\n",
    "\n",
    "        structure_polygon = path.Path([\n",
    "                (x_structure[structure_index][i], y_structure[structure_index][i]) \n",
    "                for i in range(len(x_structure[structure_index]))\n",
    "            ])\n",
    "        mask = structure_polygon.contains_points(points).reshape(len(y), len(x))\n",
    "        masked_dose = dose_ph1and2[:, :, dose_index]\n",
    "        structure_dose_values = np.append(structure_dose_values, masked_dose[mask])\n",
    "    \n",
    "    return structure_dose_values"
   ]
  },
  {
   "cell_type": "code",
   "execution_count": 32,
   "metadata": {
    "collapsed": true
   },
   "outputs": [],
   "source": [
    "def create_dvh(structure):\n",
    "    structure_dose_values = find_dose_within_structure(structure)\n",
    "    hist = np.histogram(structure_dose_values, 100)\n",
    "    freq = hist[0]\n",
    "    bin_edge = hist[1]\n",
    "    bin_mid = (bin_edge[1::] + bin_edge[:-1:])/2\n",
    "\n",
    "    cumulative = np.cumsum(freq[::-1])\n",
    "    cumulative = cumulative[::-1]\n",
    "    bin_mid = np.append([0], bin_mid)\n",
    "\n",
    "    cumulative = np.append(cumulative[0], cumulative)\n",
    "    percent_cumulative = cumulative / cumulative[0] * 100\n",
    "\n",
    "    plt.plot(bin_mid, percent_cumulative, label=structure)\n",
    "    plt.title('DVH')\n",
    "    plt.xlabel('Total Delivered Dose (Gy)')\n",
    "    plt.ylabel('Relative Volume (%)')    \n",
    "    "
   ]
  },
  {
   "cell_type": "code",
   "execution_count": 33,
   "metadata": {
    "collapsed": false
   },
   "outputs": [
    {
     "data": {
      "text/plain": [
       "['patient',\n",
       " 'RT HOF',\n",
       " 'LT HOF',\n",
       " 'BLADDER',\n",
       " 'RECTUM',\n",
       " 'bowel',\n",
       " 'ctv68',\n",
       " 'ctv46 lt node',\n",
       " 'rt node ctv 46',\n",
       " 'ctv60',\n",
       " 'PTV68',\n",
       " 'PTV46',\n",
       " 'PTV60',\n",
       " 'eval46',\n",
       " 'Couch Outer',\n",
       " 'Couch Parts',\n",
       " 'Couch Foam',\n",
       " 'ptvnew46']"
      ]
     },
     "execution_count": 33,
     "metadata": {},
     "output_type": "execute_result"
    }
   ],
   "source": [
    "structure_names = [item.ROIName for item in dcm_struct.StructureSetROISequence]\n",
    "structure_names"
   ]
  },
  {
   "cell_type": "code",
   "execution_count": 36,
   "metadata": {
    "collapsed": false
   },
   "source": [
    "create_dvh('RECTUM')\n",
    "create_dvh('PTV60')\n",
    "# create_dvh('PTV46') # Multiple contours on single slice not yet implimented\n",
    "create_dvh('PTV68')\n",
    "# create_dvh('ptvnew46') # Multiple contours on single slice not yet implimented\n",
    "create_dvh('patient')\n",
    "\n",
    "plt.legend(loc=0)"
   ]
  },
  {
   "cell_type": "code",
   "execution_count": null,
   "metadata": {
    "collapsed": false
   },
   "outputs": [],
   "source": []
  },
  {
   "cell_type": "code",
   "execution_count": null,
   "metadata": {
    "collapsed": true
   },
   "outputs": [],
   "source": []
  }
 ],
 "metadata": {
  "kernelspec": {
   "display_name": "Python 3",
   "language": "python",
   "name": "python3"
  },
  "language_info": {
   "codemirror_mode": {
    "name": "ipython",
    "version": 3
   },
   "file_extension": ".py",
   "mimetype": "text/x-python",
   "name": "python",
   "nbconvert_exporter": "python",
   "pygments_lexer": "ipython3",
   "version": "3.5.1"
  },
  "widgets": {
   "state": {},
   "version": "1.1.2"
  }
 },
 "nbformat": 4,
 "nbformat_minor": 0
}
